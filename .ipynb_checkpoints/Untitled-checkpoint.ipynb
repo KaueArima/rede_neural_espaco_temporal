{
 "cells": [
  {
   "cell_type": "code",
   "execution_count": 1,
   "metadata": {},
   "outputs": [
    {
     "ename": "ModuleNotFoundError",
     "evalue": "No module named 'pyKriging'",
     "output_type": "error",
     "traceback": [
      "\u001b[1;31m---------------------------------------------------------------------------\u001b[0m",
      "\u001b[1;31mModuleNotFoundError\u001b[0m                       Traceback (most recent call last)",
      "\u001b[1;32m<ipython-input-1-ffcd96e44bee>\u001b[0m in \u001b[0;36m<module>\u001b[1;34m\u001b[0m\n\u001b[1;32m----> 1\u001b[1;33m \u001b[1;32mimport\u001b[0m \u001b[0mpyKriging\u001b[0m\u001b[1;33m\u001b[0m\u001b[1;33m\u001b[0m\u001b[0m\n\u001b[0m\u001b[0;32m      2\u001b[0m \u001b[1;32mfrom\u001b[0m \u001b[0mpyKriging\u001b[0m\u001b[1;33m.\u001b[0m\u001b[0mkrige\u001b[0m \u001b[1;32mimport\u001b[0m \u001b[0mkriging\u001b[0m\u001b[1;33m\u001b[0m\u001b[1;33m\u001b[0m\u001b[0m\n\u001b[0;32m      3\u001b[0m \u001b[1;32mfrom\u001b[0m \u001b[0mpyKriging\u001b[0m\u001b[1;33m.\u001b[0m\u001b[0msamplingplan\u001b[0m \u001b[1;32mimport\u001b[0m \u001b[0msamplingplan\u001b[0m\u001b[1;33m\u001b[0m\u001b[1;33m\u001b[0m\u001b[0m\n\u001b[0;32m      4\u001b[0m \u001b[1;32mfrom\u001b[0m \u001b[0mpyKriging\u001b[0m\u001b[1;33m.\u001b[0m\u001b[0mtestfunctions\u001b[0m \u001b[1;32mimport\u001b[0m \u001b[0mtestfunctions\u001b[0m\u001b[1;33m\u001b[0m\u001b[1;33m\u001b[0m\u001b[0m\n",
      "\u001b[1;31mModuleNotFoundError\u001b[0m: No module named 'pyKriging'"
     ]
    }
   ],
   "source": [
    "import pyKriging\n",
    "from pyKriging.krige import kriging\n",
    "from pyKriging.samplingplan import samplingplan\n",
    "from pyKriging.testfunctions import testfunctions"
   ]
  },
  {
   "cell_type": "code",
   "execution_count": 2,
   "metadata": {},
   "outputs": [
    {
     "name": "stdout",
     "output_type": "stream",
     "text": [
      "Now_optimizing_for_q = 1 \n",
      "\n",
      "Now_optimizing_for_q = 2 \n",
      "\n",
      "Now_optimizing_for_q = 5 \n",
      "\n",
      "Now_optimizing_for_q = 10 \n",
      "\n",
      "Now_optimizing_for_q = 20 \n",
      "\n",
      "Now_optimizing_for_q = 50 \n",
      "\n",
      "Now_optimizing_for_q = 100 \n",
      "\n",
      "Best_lh_found_using_q = 2 \n",
      "\n"
     ]
    },
    {
     "data": {
      "text/plain": [
       "array([[0.83333333, 0.16666667, 0.76666667],\n",
       "       [0.1       , 0.76666667, 0.5       ],\n",
       "       [0.23333333, 0.03333333, 0.43333333],\n",
       "       [0.5       , 0.5       , 0.56666667],\n",
       "       [0.56666667, 0.96666667, 0.36666667],\n",
       "       [0.96666667, 0.9       , 0.63333333],\n",
       "       [0.7       , 0.7       , 0.16666667],\n",
       "       [0.63333333, 0.1       , 0.3       ],\n",
       "       [0.9       , 0.36666667, 0.23333333],\n",
       "       [0.43333333, 0.23333333, 0.03333333],\n",
       "       [0.16666667, 0.56666667, 0.1       ],\n",
       "       [0.03333333, 0.43333333, 0.7       ],\n",
       "       [0.36666667, 0.3       , 0.9       ],\n",
       "       [0.3       , 0.83333333, 0.83333333],\n",
       "       [0.76666667, 0.63333333, 0.96666667]])"
      ]
     },
     "execution_count": 2,
     "metadata": {},
     "output_type": "execute_result"
    }
   ],
   "source": [
    "sp = samplingplan(3)\n",
    "X = sp.optimallhc(15)\n",
    "X"
   ]
  },
  {
   "cell_type": "code",
   "execution_count": 3,
   "metadata": {},
   "outputs": [],
   "source": [
    "testfun = testfunctions().squared"
   ]
  },
  {
   "cell_type": "code",
   "execution_count": 4,
   "metadata": {},
   "outputs": [
    {
     "data": {
      "text/plain": [
       "array([0.78368786, 0.59324906, 0.28431204, 0.47463436, 0.79214898,\n",
       "       1.04069955, 0.64182898, 0.41466184, 0.66059737, 0.28431204,\n",
       "       0.36016971, 0.53202966, 0.66227722, 0.82647175, 0.96306801])"
      ]
     },
     "execution_count": 4,
     "metadata": {},
     "output_type": "execute_result"
    }
   ],
   "source": [
    "y = testfun(X)\n",
    "y"
   ]
  },
  {
   "cell_type": "code",
   "execution_count": 5,
   "metadata": {},
   "outputs": [],
   "source": [
    "k = kriging(X, y, testfunction=testfun, testPoints=300)"
   ]
  },
  {
   "cell_type": "code",
   "execution_count": 6,
   "metadata": {},
   "outputs": [],
   "source": [
    "\n",
    "k.train()"
   ]
  },
  {
   "cell_type": "code",
   "execution_count": 7,
   "metadata": {},
   "outputs": [],
   "source": [
    "k.snapshot()"
   ]
  },
  {
   "cell_type": "code",
   "execution_count": 8,
   "metadata": {},
   "outputs": [
    {
     "name": "stdout",
     "output_type": "stream",
     "text": [
      "0\n",
      "Infill iteration 1\n",
      "Adding point [1. 1. 0.]\n",
      "Adding point [0. 1. 0.]\n",
      "Adding point [0. 0. 0.]\n",
      "Adding point [1. 0. 0.]\n",
      "Adding point [1. 1. 1.]\n",
      "Adding point [0. 0. 1.]\n",
      "Adding point [0. 1. 1.]\n",
      "Adding point [1. 0. 1.]\n",
      "Adding point [0.63205124 0.         1.        ]\n",
      "Adding point [0.36171501 1.         0.        ]\n",
      "0.9903394629475947\n",
      "Infill iteration 2\n",
      "Adding point [0.         0.62761163 1.        ]\n",
      "Adding point [1.         0.         0.47097498]\n",
      "Adding point [0.66127189 1.         1.        ]\n",
      "Adding point [1.         0.61313405 0.        ]\n",
      "Adding point [1.         0.46289105 1.        ]\n",
      "Adding point [0.         0.17175076 0.25897033]\n",
      "Adding point [0.37553124 0.         0.        ]\n",
      "Adding point [0.         0.38870749 0.        ]\n",
      "Adding point [0.         1.         0.65964928]\n",
      "Adding point [1.         1.         0.26604301]\n",
      "0.998532220141368\n",
      "Infill iteration 3\n",
      "Adding point [0.         0.         0.67057706]\n",
      "Adding point [0.         1.         0.23732181]\n",
      "Adding point [1.         0.70146837 0.38202727]\n",
      "Adding point [0.34678376 0.         0.82636591]\n",
      "Adding point [1.         0.4715794  0.74105699]\n",
      "Adding point [0.         0.22246355 1.        ]\n",
      "Adding point [0.78133386 0.         0.        ]\n",
      "Adding point [0.76443048 1.         0.        ]\n",
      "Adding point [0.23873603 1.         1.        ]\n",
      "Adding point [0.         0.79592768 0.        ]\n",
      "0.9991311695083648\n",
      "Infill iteration 4\n",
      "Adding point [1.         0.         0.11584307]\n",
      "Adding point [1.         1.         0.87198833]\n",
      "Adding point [1.         0.         0.65434099]\n",
      "Adding point [0.         0.56833099 0.34708737]\n",
      "Adding point [1.         1.         0.48927526]\n",
      "Adding point [0.64365943 0.         0.54123684]\n",
      "Adding point [0.55375366 1.         0.73427867]\n",
      "Adding point [0.91220957 0.         0.91357712]\n",
      "Adding point [0.14547572 0.         0.14014723]\n",
      "Adding point [1.         0.25194479 0.58229486]\n",
      "0.9991105399844512\n",
      "Infill iteration 5\n",
      "Adding point [0.48362677 0.80179755 1.        ]\n",
      "Adding point [0.14604665 0.07763442 1.        ]\n",
      "Adding point [0.56123021 0.65209567 0.        ]\n",
      "Adding point [0.90349477 0.84702597 0.        ]\n",
      "Adding point [0.19881801 0.13081793 0.        ]\n",
      "Adding point [0.59036954 0.43652934 1.        ]\n",
      "Adding point [0.38246905 1.         0.52622263]\n",
      "Adding point [0.30669327 0.38678872 0.20027649]\n",
      "Adding point [0.87583156 1.         1.        ]\n",
      "Adding point [0.47448131 0.060171   1.        ]\n"
     ]
    }
   ],
   "source": [
    "for i in range(5):\n",
    "    print(k.history['rsquared'][-1])\n",
    "    print('Infill iteration {0}'.format(i + 1))\n",
    "    infillPoints = k.infill(10)\n",
    "\n",
    "    # Evaluate the infill points and add them back to the Kriging model\n",
    "    for point in infillPoints:\n",
    "        print('Adding point {}'.format(point))\n",
    "        k.addPoint(point, testfun(point)[0])\n",
    "\n",
    "    # Retrain the model with the new points added in to the model\n",
    "    k.train()\n",
    "    k.snapshot()"
   ]
  },
  {
   "cell_type": "code",
   "execution_count": 12,
   "metadata": {},
   "outputs": [
    {
     "ename": "SyntaxError",
     "evalue": "invalid syntax (state_pickler.py, line 1210)",
     "output_type": "error",
     "traceback": [
      "Traceback \u001b[1;36m(most recent call last)\u001b[0m:\n",
      "  File \u001b[0;32m\"C:\\ProgramData\\Anaconda3\\envs\\Tensorflow_Keras\\lib\\site-packages\\IPython\\core\\interactiveshell.py\"\u001b[0m, line \u001b[0;32m3331\u001b[0m, in \u001b[0;35mrun_code\u001b[0m\n    exec(code_obj, self.user_global_ns, self.user_ns)\n",
      "  File \u001b[0;32m\"<ipython-input-12-1e5043de53a6>\"\u001b[0m, line \u001b[0;32m1\u001b[0m, in \u001b[0;35m<module>\u001b[0m\n    k.plot()\n",
      "  File \u001b[0;32m\"C:\\ProgramData\\Anaconda3\\envs\\Tensorflow_Keras\\lib\\site-packages\\pyKriging\\krige.py\"\u001b[0m, line \u001b[0;32m479\u001b[0m, in \u001b[0;35mplot\u001b[0m\n    import mayavi.mlab as mlab\n",
      "  File \u001b[0;32m\"C:\\ProgramData\\Anaconda3\\envs\\Tensorflow_Keras\\lib\\site-packages\\mayavi\\mlab.py\"\u001b[0m, line \u001b[0;32m15\u001b[0m, in \u001b[0;35m<module>\u001b[0m\n    from mayavi.core.common import process_ui_events\n",
      "\u001b[1;36m  File \u001b[1;32m\"C:\\ProgramData\\Anaconda3\\envs\\Tensorflow_Keras\\lib\\site-packages\\mayavi\\core\\common.py\"\u001b[1;36m, line \u001b[1;32m16\u001b[1;36m, in \u001b[1;35m<module>\u001b[1;36m\u001b[0m\n\u001b[1;33m    from apptools.persistence.state_pickler import create_instance\u001b[0m\n",
      "\u001b[1;36m  File \u001b[1;32m\"C:\\ProgramData\\Anaconda3\\envs\\Tensorflow_Keras\\lib\\site-packages\\apptools\\persistence\\state_pickler.py\"\u001b[1;36m, line \u001b[1;32m1210\u001b[0m\n\u001b[1;33m    \u001b[0m\n\u001b[1;37m    ^\u001b[0m\n\u001b[1;31mSyntaxError\u001b[0m\u001b[1;31m:\u001b[0m invalid syntax\n"
     ]
    }
   ],
   "source": [
    "k.plot()"
   ]
  },
  {
   "cell_type": "code",
   "execution_count": null,
   "metadata": {},
   "outputs": [],
   "source": []
  },
  {
   "cell_type": "code",
   "execution_count": null,
   "metadata": {},
   "outputs": [],
   "source": []
  }
 ],
 "metadata": {
  "kernelspec": {
   "display_name": "Python 3",
   "language": "python",
   "name": "python3"
  },
  "language_info": {
   "codemirror_mode": {
    "name": "ipython",
    "version": 3
   },
   "file_extension": ".py",
   "mimetype": "text/x-python",
   "name": "python",
   "nbconvert_exporter": "python",
   "pygments_lexer": "ipython3",
   "version": "3.7.7"
  }
 },
 "nbformat": 4,
 "nbformat_minor": 4
}
